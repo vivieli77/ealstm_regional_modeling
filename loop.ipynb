{
 "cells": [
  {
   "cell_type": "code",
   "execution_count": 2,
   "metadata": {},
   "outputs": [],
   "source": [
    "import subprocess\n",
    "for i in range(0, 10):\n",
    "    seed = str(i) * 5\n",
    "    subprocess.run([\"python\", \"main.py\", \"train\", \"--camels_root\", \"data\", \"--seed\", seed, \"--cache_data\", \"True\", \"--num_workers\", \"4\", \"--use_mse\", \"True\"])"
   ]
  },
  {
   "cell_type": "code",
   "execution_count": 5,
   "metadata": {},
   "outputs": [
    {
     "name": "stdout",
     "output_type": "stream",
     "text": [
      "00000\n",
      "11111\n",
      "22222\n",
      "33333\n",
      "44444\n",
      "55555\n",
      "66666\n",
      "77777\n",
      "88888\n",
      "99999\n"
     ]
    }
   ],
   "source": [
    "for i in range(0, 10):\n",
    "    seed = str(i) * 5\n",
    "    print(seed)"
   ]
  },
  {
   "cell_type": "code",
   "execution_count": null,
   "metadata": {},
   "outputs": [],
   "source": []
  }
 ],
 "metadata": {
  "kernelspec": {
   "display_name": "Python 3",
   "language": "python",
   "name": "python3"
  },
  "language_info": {
   "codemirror_mode": {
    "name": "ipython",
    "version": 3
   },
   "file_extension": ".py",
   "mimetype": "text/x-python",
   "name": "python",
   "nbconvert_exporter": "python",
   "pygments_lexer": "ipython3",
   "version": "3.7.6"
  }
 },
 "nbformat": 4,
 "nbformat_minor": 4
}
